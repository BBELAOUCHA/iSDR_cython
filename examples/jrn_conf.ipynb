{
 "cells": [
  {
   "cell_type": "code",
   "execution_count": 1,
   "metadata": {},
   "outputs": [],
   "source": [
    "%matplotlib inline\n",
    "import numpy as np\n",
    "import matplotlib.pyplot as plt\n",
    "import pandas as pd\n",
    "import iSDR_cython as ciSDR\n",
    "np.random.seed(12)"
   ]
  },
  {
   "cell_type": "code",
   "execution_count": 12,
   "metadata": {},
   "outputs": [
    {
     "name": "stdout",
     "output_type": "stream",
     "text": [
      "Total number of combination 400\n",
      "Successfully created the directory /tmp/tmp_b3bf5361-7dda-4a3b-8f0b-a69cb2ca11e0 \n"
     ]
    },
    {
     "name": "stderr",
     "output_type": "stream",
     "text": [
      " 48%|████▊     | 193/400 [00:44<01:09,  2.97it/s]/Users/EEALBRB/workspace/cython_project/scikit-learn/sklearn/linear_model/_coordinate_descent.py:482: ConvergenceWarning: Objective did not converge. You might want to increase the number of iterations. Duality gap: 952.5969123854538, tolerance: 597.5482906909936\n",
      "  positive)\n",
      "100%|██████████| 400/400 [01:22<00:00,  4.87it/s]\n"
     ]
    },
    {
     "name": "stdout",
     "output_type": "stream",
     "text": [
      "Successfully deleted the directory /tmp/tmp_b3bf5361-7dda-4a3b-8f0b-a69cb2ca11e0\n",
      "3.0941058807077457 2.7138715356113923 0.0 3.6663842557289428 -50.0\n",
      "Total number of combination 400\n",
      "Successfully created the directory /tmp/tmp_e8005b96-88c0-4719-84ff-f9cb911d06dc \n"
     ]
    },
    {
     "name": "stderr",
     "output_type": "stream",
     "text": [
      "100%|██████████| 400/400 [01:43<00:00,  3.88it/s]\n"
     ]
    },
    {
     "name": "stdout",
     "output_type": "stream",
     "text": [
      "Successfully deleted the directory /tmp/tmp_e8005b96-88c0-4719-84ff-f9cb911d06dc\n",
      "22.239435079708493 16.808035543797846 0.0 4.30768906966805 -16.666666666666675\n",
      "Total number of combination 400\n",
      "Successfully created the directory /tmp/tmp_a9350921-919b-4f40-b290-ae3392e27bb6 \n"
     ]
    },
    {
     "name": "stderr",
     "output_type": "stream",
     "text": [
      "100%|██████████| 400/400 [01:13<00:00,  5.41it/s]\n"
     ]
    },
    {
     "name": "stdout",
     "output_type": "stream",
     "text": [
      "Successfully deleted the directory /tmp/tmp_a9350921-919b-4f40-b290-ae3392e27bb6\n",
      "3.786224612904568 2.731998947250983 0.0 5.229232633246839 -16.666666666666675\n",
      "Total number of combination 400\n",
      "Successfully created the directory /tmp/tmp_54503588-8e82-4937-99b4-9804647949a3 \n"
     ]
    },
    {
     "name": "stderr",
     "output_type": "stream",
     "text": [
      "100%|██████████| 400/400 [01:48<00:00,  3.69it/s]\n"
     ]
    },
    {
     "name": "stdout",
     "output_type": "stream",
     "text": [
      "Successfully deleted the directory /tmp/tmp_54503588-8e82-4937-99b4-9804647949a3\n",
      "62.38305063881835 66.34945112893189 0.0 7.2906686279617805 -33.33333333333333\n",
      "Total number of combination 400\n",
      "Successfully created the directory /tmp/tmp_10821bab-3427-47a7-8c68-6f6e9e6aa89d \n"
     ]
    },
    {
     "name": "stderr",
     "output_type": "stream",
     "text": [
      "100%|██████████| 400/400 [01:19<00:00,  5.03it/s]\n"
     ]
    },
    {
     "name": "stdout",
     "output_type": "stream",
     "text": [
      "Successfully deleted the directory /tmp/tmp_10821bab-3427-47a7-8c68-6f6e9e6aa89d\n",
      "3.086602384085214 2.704872006989348 0.0 3.6698834237939884 -50.0\n",
      "Total number of combination 400\n",
      "Successfully created the directory /tmp/tmp_5184cc76-007d-4407-a25c-bf0187840ee5 \n"
     ]
    },
    {
     "name": "stderr",
     "output_type": "stream",
     "text": [
      "100%|██████████| 400/400 [01:15<00:00,  5.32it/s]\n"
     ]
    },
    {
     "name": "stdout",
     "output_type": "stream",
     "text": [
      "Successfully deleted the directory /tmp/tmp_5184cc76-007d-4407-a25c-bf0187840ee5\n",
      "3.8414587217471894 3.5467046262815347 0.0 3.911840309155293 -50.0\n",
      "Total number of combination 400\n",
      "Successfully created the directory /tmp/tmp_71456e79-7970-4e54-8f5c-70a2d6cd0f19 \n"
     ]
    },
    {
     "name": "stderr",
     "output_type": "stream",
     "text": [
      "100%|██████████| 400/400 [01:34<00:00,  4.25it/s]\n"
     ]
    },
    {
     "name": "stdout",
     "output_type": "stream",
     "text": [
      "Successfully deleted the directory /tmp/tmp_71456e79-7970-4e54-8f5c-70a2d6cd0f19\n",
      "33.92538585855498 18.225578064015714 -33.33333333333333 9.237531378008786 -100.0\n",
      "Total number of combination 400\n",
      "Successfully created the directory /tmp/tmp_c9518737-b124-4756-a23d-e03d0648a719 \n"
     ]
    },
    {
     "name": "stderr",
     "output_type": "stream",
     "text": [
      "100%|██████████| 400/400 [01:30<00:00,  4.44it/s]\n"
     ]
    },
    {
     "name": "stdout",
     "output_type": "stream",
     "text": [
      "Successfully deleted the directory /tmp/tmp_c9518737-b124-4756-a23d-e03d0648a719\n",
      "131.76500561770368 32.11881361197646 0.0 3.9481687818642377 -16.666666666666675\n",
      "Total number of combination 400\n",
      "Successfully created the directory /tmp/tmp_24a8bc19-441f-4710-ac1e-56abb62bd7a0 \n"
     ]
    },
    {
     "name": "stderr",
     "output_type": "stream",
     "text": [
      "100%|██████████| 400/400 [01:31<00:00,  4.38it/s]\n"
     ]
    },
    {
     "name": "stdout",
     "output_type": "stream",
     "text": [
      "Successfully deleted the directory /tmp/tmp_24a8bc19-441f-4710-ac1e-56abb62bd7a0\n",
      "2.918331883269577 2.2889987010213555 0.0 4.052489012968049 -50.0\n",
      "Total number of combination 400\n",
      "Successfully created the directory /tmp/tmp_cbde08e8-d581-4cba-8f01-a882edf988d2 \n"
     ]
    },
    {
     "name": "stderr",
     "output_type": "stream",
     "text": [
      "100%|██████████| 400/400 [01:26<00:00,  4.65it/s]\n"
     ]
    },
    {
     "name": "stdout",
     "output_type": "stream",
     "text": [
      "Successfully deleted the directory /tmp/tmp_cbde08e8-d581-4cba-8f01-a882edf988d2\n",
      "14.149063253660806 6.8821617389914875 0.0 1.5737957977051737 -33.33333333333333\n",
      "Total number of combination 400\n",
      "Successfully created the directory /tmp/tmp_d925e251-6d27-479e-a672-698e2c533602 \n"
     ]
    },
    {
     "name": "stderr",
     "output_type": "stream",
     "text": [
      " 65%|██████▌   | 260/400 [01:08<00:41,  3.35it/s]/Users/EEALBRB/workspace/cython_project/scikit-learn/sklearn/linear_model/_coordinate_descent.py:482: ConvergenceWarning: Objective did not converge. You might want to increase the number of iterations. Duality gap: 183.60067325007842, tolerance: 129.661110059336\n",
      "  positive)\n",
      "100%|██████████| 400/400 [01:45<00:00,  3.77it/s]\n"
     ]
    },
    {
     "name": "stdout",
     "output_type": "stream",
     "text": [
      "Successfully deleted the directory /tmp/tmp_d925e251-6d27-479e-a672-698e2c533602\n",
      "77.25575476101744 24.110679281224 0.0 5.748891214784087 0.0\n",
      "Total number of combination 400\n",
      "Successfully created the directory /tmp/tmp_dce38a6c-12dd-4aa9-bed5-bafe736667b2 \n"
     ]
    },
    {
     "name": "stderr",
     "output_type": "stream",
     "text": [
      " 12%|█▏        | 46/400 [00:16<03:07,  1.88it/s]/Users/EEALBRB/workspace/cython_project/scikit-learn/sklearn/linear_model/_coordinate_descent.py:482: ConvergenceWarning: Objective did not converge. You might want to increase the number of iterations. Duality gap: 1.1659929494737593, tolerance: 0.30716540105224793\n",
      "  positive)\n",
      " 61%|██████▏   | 245/400 [01:03<01:06,  2.33it/s]/Users/EEALBRB/workspace/cython_project/scikit-learn/sklearn/linear_model/_coordinate_descent.py:482: ConvergenceWarning: Objective did not converge. You might want to increase the number of iterations. Duality gap: 0.5207461466766263, tolerance: 0.30716540105224793\n",
      "  positive)\n",
      "100%|██████████| 400/400 [01:34<00:00,  4.22it/s]\n"
     ]
    },
    {
     "name": "stdout",
     "output_type": "stream",
     "text": [
      "Successfully deleted the directory /tmp/tmp_dce38a6c-12dd-4aa9-bed5-bafe736667b2\n",
      "2.4135786316929906 1.7870710419503277 0.0 3.728058185341663 -16.666666666666675\n"
     ]
    }
   ],
   "source": [
    "results = dict()\n",
    "results['RMS_J'] = []\n",
    "results['RMS_M'] = []\n",
    "results['AS'] = []\n",
    "results['RMS_A'] = []\n",
    "results['NC'] = []\n",
    "\n",
    "\n",
    "\n",
    "gridsearch = {\n",
    "    'l21_values':np.logspace(-2, 1, 10),\n",
    "    'la_values':np.logspace(-3, 1, 10),\n",
    "    'la_ratio_values':[1,0.98],\n",
    "    'normalize':[0],\n",
    "    'model_p':[1],\n",
    "    'old_version':False,\n",
    "    'normalize_Sstep':[0, 1],\n",
    "    'normalize_Astep':[0],\n",
    "    \n",
    "    }\n",
    "\n",
    "\n",
    "\n",
    "\n",
    "np.random.seed(40)\n",
    "n_t = 200\n",
    "n_c, n_s = 10, 40\n",
    "m_p = 1\n",
    "G = np.abs(np.random.normal(0,1,(n_c, n_s)))\n",
    "for i in range(n_s):\n",
    "    G[:, i] /= np.linalg.norm(G[:, i])\n",
    "    \n",
    "for ix in range(1, n_s//3):\n",
    "\n",
    "\n",
    "    J = np.zeros((n_s, n_t))\n",
    "    n_ac = 3\n",
    "    J[ix*n_ac:(ix+1)*n_ac, 0] = [10, 0.1, 0]\n",
    "    A = np.zeros((n_s, n_s))\n",
    "    A[ix*n_ac:(ix+1)*n_ac, ix*n_ac:(ix+1)*n_ac] = np.array([[0.9,-0.4,0], [0.25, 0.97,0],[0.5,0,0.5]])\n",
    "    for i in range(m_p, J.shape[-1]):\n",
    "        J[:, i] = np.dot(A, J[:, i-1])\n",
    "\n",
    "\n",
    "\n",
    "\n",
    "    SC = np.eye(n_s)\n",
    "    iy = np.arange(ix*3, (ix+1)*3)\n",
    "    for i in range(n_s//3):\n",
    "        SC[i*3:(i+1)*3, i*3:(i+1)*3] = 1\n",
    "\n",
    "    SC[ix*3:(ix+1)*3, ix*3:(ix+1)*3] = np.array([[1,1,1], [1,1,0],[1,0,1]])\n",
    "\n",
    "    SC[:, :] = 1\n",
    "    \n",
    "    M = np.dot(G, J[:, m_p:])\n",
    "    \n",
    "    cl = ciSDR.eiSDR_cv(**gridsearch, verbose=True, max_run=500)\n",
    "    df = cl.get_opt(G, M, SC)\n",
    "    \n",
    "    \n",
    "    \n",
    "    \n",
    "    clf = ciSDR.linear_model.iSDR(l21_ratio=df.ls_reg.values[0],\n",
    "                                  la=[df.la_reg_a.values[0], df.la_reg_r.values[0]],\n",
    "                                  normalize_Astep=df.normalize_Astep.values[0],\n",
    "                                  normalize_Sstep=df.normalize_Sstep.values[0],\n",
    "                                  old_version=False,\n",
    "                                  verbose=0)\n",
    "    clf.solver(G, M, SC, model_p=df.p.values[0], A=None, normalize=df.normalize.values[0])\n",
    "    \n",
    "    \n",
    "    \n",
    "    R = clf.coef_\n",
    "    Jx = np.zeros((J.shape[0], R.shape[1]))\n",
    "    Jx[clf.active_set[-1], :] = R\n",
    "    rms_J = 100*np.linalg.norm(Jx - J[:, :-m_p]) / np.linalg.norm(J[:, :-m_p])\n",
    "    rms_M = 100*np.linalg.norm(np.dot(G, Jx - J[:, :-m_p]))/ np.linalg.norm(M)\n",
    "    nbr_ac = len(clf.active_set[-1])\n",
    "    Ax = np.zeros((n_s, n_s*m_p))\n",
    "    for i in range(nbr_ac):\n",
    "        for j in range(nbr_ac):\n",
    "            for k in range(df.p.values[0]):\n",
    "                Ax[clf.active_set[-1][i], clf.active_set[-1][j] + k*n_s] = clf.Acoef_[i, j + k*nbr_ac]\n",
    "\n",
    "\n",
    "    rms_A = 100*np.sum(np.abs(np.sort(np.linalg.eigvals(A)) - np.sort(np.linalg.eigvals(Ax)))) / np.sum(np.abs(np.sort(np.linalg.eigvals(A))))\n",
    "\n",
    "    nbr_coef = 100* (1 - np.sum(np.abs(Ax)>0)/ np.sum(np.abs(A)>0))\n",
    "    results['RMS_J'].append(rms_J)\n",
    "    results['RMS_M'].append(rms_M)\n",
    "    results['AS'].append(100*(1-nbr_ac/n_ac))\n",
    "    results['RMS_A'].append(rms_A)\n",
    "    results['NC'].append(nbr_coef)\n",
    "    print(rms_J, rms_M, 100*(1-nbr_ac/n_ac), rms_A, nbr_coef)\n",
    "results = pd.DataFrame(results)"
   ]
  },
  {
   "cell_type": "code",
   "execution_count": 15,
   "metadata": {},
   "outputs": [
    {
     "name": "stdout",
     "output_type": "stream",
     "text": [
      "[36 37 38]\n",
      "[36 37 38]\n"
     ]
    }
   ],
   "source": [
    "print(clf.active_set[-1])\n",
    "print(np.arange(ix*3, (ix+1)*3))"
   ]
  },
  {
   "cell_type": "code",
   "execution_count": 16,
   "metadata": {},
   "outputs": [
    {
     "data": {
      "text/html": [
       "<div>\n",
       "<style scoped>\n",
       "    .dataframe tbody tr th:only-of-type {\n",
       "        vertical-align: middle;\n",
       "    }\n",
       "\n",
       "    .dataframe tbody tr th {\n",
       "        vertical-align: top;\n",
       "    }\n",
       "\n",
       "    .dataframe thead th {\n",
       "        text-align: right;\n",
       "    }\n",
       "</style>\n",
       "<table border=\"1\" class=\"dataframe\">\n",
       "  <thead>\n",
       "    <tr style=\"text-align: right;\">\n",
       "      <th></th>\n",
       "      <th>RMS_J</th>\n",
       "      <th>RMS_M</th>\n",
       "      <th>AS</th>\n",
       "      <th>RMS_A</th>\n",
       "      <th>NC</th>\n",
       "    </tr>\n",
       "  </thead>\n",
       "  <tbody>\n",
       "    <tr>\n",
       "      <th>0</th>\n",
       "      <td>3.094106</td>\n",
       "      <td>2.713872</td>\n",
       "      <td>0.000000</td>\n",
       "      <td>3.666384</td>\n",
       "      <td>-50.000000</td>\n",
       "    </tr>\n",
       "    <tr>\n",
       "      <th>1</th>\n",
       "      <td>22.239435</td>\n",
       "      <td>16.808036</td>\n",
       "      <td>0.000000</td>\n",
       "      <td>4.307689</td>\n",
       "      <td>-16.666667</td>\n",
       "    </tr>\n",
       "    <tr>\n",
       "      <th>2</th>\n",
       "      <td>3.786225</td>\n",
       "      <td>2.731999</td>\n",
       "      <td>0.000000</td>\n",
       "      <td>5.229233</td>\n",
       "      <td>-16.666667</td>\n",
       "    </tr>\n",
       "    <tr>\n",
       "      <th>3</th>\n",
       "      <td>62.383051</td>\n",
       "      <td>66.349451</td>\n",
       "      <td>0.000000</td>\n",
       "      <td>7.290669</td>\n",
       "      <td>-33.333333</td>\n",
       "    </tr>\n",
       "    <tr>\n",
       "      <th>4</th>\n",
       "      <td>3.086602</td>\n",
       "      <td>2.704872</td>\n",
       "      <td>0.000000</td>\n",
       "      <td>3.669883</td>\n",
       "      <td>-50.000000</td>\n",
       "    </tr>\n",
       "    <tr>\n",
       "      <th>5</th>\n",
       "      <td>3.841459</td>\n",
       "      <td>3.546705</td>\n",
       "      <td>0.000000</td>\n",
       "      <td>3.911840</td>\n",
       "      <td>-50.000000</td>\n",
       "    </tr>\n",
       "    <tr>\n",
       "      <th>6</th>\n",
       "      <td>33.925386</td>\n",
       "      <td>18.225578</td>\n",
       "      <td>-33.333333</td>\n",
       "      <td>9.237531</td>\n",
       "      <td>-100.000000</td>\n",
       "    </tr>\n",
       "    <tr>\n",
       "      <th>7</th>\n",
       "      <td>131.765006</td>\n",
       "      <td>32.118814</td>\n",
       "      <td>0.000000</td>\n",
       "      <td>3.948169</td>\n",
       "      <td>-16.666667</td>\n",
       "    </tr>\n",
       "    <tr>\n",
       "      <th>8</th>\n",
       "      <td>2.918332</td>\n",
       "      <td>2.288999</td>\n",
       "      <td>0.000000</td>\n",
       "      <td>4.052489</td>\n",
       "      <td>-50.000000</td>\n",
       "    </tr>\n",
       "    <tr>\n",
       "      <th>9</th>\n",
       "      <td>14.149063</td>\n",
       "      <td>6.882162</td>\n",
       "      <td>0.000000</td>\n",
       "      <td>1.573796</td>\n",
       "      <td>-33.333333</td>\n",
       "    </tr>\n",
       "    <tr>\n",
       "      <th>10</th>\n",
       "      <td>77.255755</td>\n",
       "      <td>24.110679</td>\n",
       "      <td>0.000000</td>\n",
       "      <td>5.748891</td>\n",
       "      <td>0.000000</td>\n",
       "    </tr>\n",
       "    <tr>\n",
       "      <th>11</th>\n",
       "      <td>2.413579</td>\n",
       "      <td>1.787071</td>\n",
       "      <td>0.000000</td>\n",
       "      <td>3.728058</td>\n",
       "      <td>-16.666667</td>\n",
       "    </tr>\n",
       "  </tbody>\n",
       "</table>\n",
       "</div>"
      ],
      "text/plain": [
       "         RMS_J      RMS_M         AS     RMS_A          NC\n",
       "0     3.094106   2.713872   0.000000  3.666384  -50.000000\n",
       "1    22.239435  16.808036   0.000000  4.307689  -16.666667\n",
       "2     3.786225   2.731999   0.000000  5.229233  -16.666667\n",
       "3    62.383051  66.349451   0.000000  7.290669  -33.333333\n",
       "4     3.086602   2.704872   0.000000  3.669883  -50.000000\n",
       "5     3.841459   3.546705   0.000000  3.911840  -50.000000\n",
       "6    33.925386  18.225578 -33.333333  9.237531 -100.000000\n",
       "7   131.765006  32.118814   0.000000  3.948169  -16.666667\n",
       "8     2.918332   2.288999   0.000000  4.052489  -50.000000\n",
       "9    14.149063   6.882162   0.000000  1.573796  -33.333333\n",
       "10   77.255755  24.110679   0.000000  5.748891    0.000000\n",
       "11    2.413579   1.787071   0.000000  3.728058  -16.666667"
      ]
     },
     "execution_count": 16,
     "metadata": {},
     "output_type": "execute_result"
    }
   ],
   "source": [
    "results"
   ]
  },
  {
   "cell_type": "code",
   "execution_count": 17,
   "metadata": {},
   "outputs": [
    {
     "data": {
      "image/png": "[encoded data removed]",
      "text/plain": [
       "<Figure size 432x288 with 1 Axes>"
      ]
     },
     "metadata": {
      "needs_background": "light"
     },
     "output_type": "display_data"
    }
   ],
   "source": [
    "plt.plot(Jx[:, 1:].T - J[:, 1:-1].T);"
   ]
  },
  {
   "cell_type": "code",
   "execution_count": 14,
   "metadata": {},
   "outputs": [
    {
     "data": {
      "image/png": "[encoded data removed]",
      "text/plain": [
       "<Figure size 432x288 with 1 Axes>"
      ]
     },
     "metadata": {
      "needs_background": "light"
     },
     "output_type": "display_data"
    }
   ],
   "source": [
    "plt.plot(J[:, :].T);"
   ]
  },
  {
   "cell_type": "code",
   "execution_count": 59,
   "metadata": {},
   "outputs": [
    {
     "data": {
      "image/png": "[encoded data removed]",
      "text/plain": [
       "<Figure size 432x288 with 1 Axes>"
      ]
     },
     "metadata": {
      "needs_background": "light"
     },
     "output_type": "display_data"
    }
   ],
   "source": [
    "plt.plot(Jx[:, :].T);"
   ]
  },
  {
   "cell_type": "code",
   "execution_count": 60,
   "metadata": {},
   "outputs": [
    {
     "data": {
      "text/plain": [
       "array([6, 7, 8])"
      ]
     },
     "execution_count": 60,
     "metadata": {},
     "output_type": "execute_result"
    }
   ],
   "source": [
    "clf.active_set[-1]"
   ]
  },
  {
   "cell_type": "code",
   "execution_count": 61,
   "metadata": {},
   "outputs": [
    {
     "data": {
      "text/plain": [
       "33.779158139840995"
      ]
     },
     "execution_count": 61,
     "metadata": {},
     "output_type": "execute_result"
    }
   ],
   "source": [
    "100*np.linalg.norm(Jx[:, :].T - J[:, 1:].T)/np.linalg.norm(J[:, 1:].T)"
   ]
  },
  {
   "cell_type": "code",
   "execution_count": null,
   "metadata": {},
   "outputs": [],
   "source": []
  }
 ],
 "metadata": {
  "kernelspec": {
   "display_name": "Python 3",
   "language": "python",
   "name": "python3"
  },
  "language_info": {
   "codemirror_mode": {
    "name": "ipython",
    "version": 3
   },
   "file_extension": ".py",
   "mimetype": "text/x-python",
   "name": "python",
   "nbconvert_exporter": "python",
   "pygments_lexer": "ipython3",
   "version": "3.7.6"
  }
 },
 "nbformat": 4,
 "nbformat_minor": 4
}
